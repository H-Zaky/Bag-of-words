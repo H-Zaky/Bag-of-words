{
 "cells": [
  {
   "cell_type": "code",
   "execution_count": 1,
   "id": "e9b3d442",
   "metadata": {
    "_cell_guid": "b1076dfc-b9ad-4769-8c92-a6c4dae69d19",
    "_uuid": "8f2839f25d086af736a60e9eeb907d3b93b6e0e5",
    "execution": {
     "iopub.execute_input": "2023-11-11T20:05:10.159476Z",
     "iopub.status.busy": "2023-11-11T20:05:10.159152Z",
     "iopub.status.idle": "2023-11-11T20:05:25.128005Z",
     "shell.execute_reply": "2023-11-11T20:05:25.126917Z"
    },
    "papermill": {
     "duration": 14.981326,
     "end_time": "2023-11-11T20:05:25.130325",
     "exception": false,
     "start_time": "2023-11-11T20:05:10.148999",
     "status": "completed"
    },
    "tags": []
   },
   "outputs": [
    {
     "name": "stderr",
     "output_type": "stream",
     "text": [
      "/opt/conda/lib/python3.10/site-packages/scipy/__init__.py:146: UserWarning: A NumPy version >=1.16.5 and <1.23.0 is required for this version of SciPy (detected version 1.24.3\n",
      "  warnings.warn(f\"A NumPy version >={np_minversion} and <{np_maxversion}\"\n"
     ]
    },
    {
     "name": "stdout",
     "output_type": "stream",
     "text": [
      "['word2vec-nlp-tutorial', 'imdb-review-dataset']\n"
     ]
    }
   ],
   "source": [
    "import numpy as np\n",
    "import pandas as pd\n",
    "import matplotlib.pyplot as plt\n",
    "import seaborn as sns\n",
    "import nltk\n",
    "from nltk.corpus import stopwords              \n",
    "from nltk import word_tokenize, sent_tokenize\n",
    "\n",
    "import keras\n",
    "from keras.preprocessing.text import one_hot, Tokenizer\n",
    "from keras.preprocessing.sequence import pad_sequences\n",
    "from keras.models import Sequential\n",
    "from keras.layers import Dense, Flatten, Embedding, LSTM, SpatialDropout1D, Input, Bidirectional,Dropout\n",
    "from sklearn.model_selection import train_test_split\n",
    "from keras.callbacks import EarlyStopping, ReduceLROnPlateau\n",
    "from keras.regularizers import l2\n",
    "\n",
    "import os\n",
    "print(os.listdir(\"../input\"))"
   ]
  },
  {
   "cell_type": "code",
   "execution_count": 2,
   "id": "10c2b8cc",
   "metadata": {
    "_cell_guid": "79c7e3d0-c299-4dcb-8224-4455121ee9b0",
    "_uuid": "d629ff2d2480ee46fbb7e2d37f6b5fab8052498a",
    "execution": {
     "iopub.execute_input": "2023-11-11T20:05:25.151285Z",
     "iopub.status.busy": "2023-11-11T20:05:25.150291Z",
     "iopub.status.idle": "2023-11-11T20:05:27.923372Z",
     "shell.execute_reply": "2023-11-11T20:05:27.922588Z"
    },
    "papermill": {
     "duration": 2.785488,
     "end_time": "2023-11-11T20:05:27.925685",
     "exception": false,
     "start_time": "2023-11-11T20:05:25.140197",
     "status": "completed"
    },
    "tags": []
   },
   "outputs": [],
   "source": [
    "raw_train_data_labeled = pd.read_csv(\"../input/word2vec-nlp-tutorial/labeledTrainData.tsv.zip\", header=0, delimiter=\"\\t\", quoting=3)\n",
    "raw_train_data_unlabeled = pd.read_csv(\"../input/word2vec-nlp-tutorial/unlabeledTrainData.tsv.zip\", header=0, delimiter=\"\\t\", quoting=3)\n",
    "raw_test_data = pd.read_csv(\"../input/word2vec-nlp-tutorial/testData.tsv.zip\", header=0, delimiter=\"\\t\", quoting=3)"
   ]
  },
  {
   "cell_type": "code",
   "execution_count": 3,
   "id": "ec91c1a2",
   "metadata": {
    "_uuid": "6efec74779805b9151de3f1fca05b09f3658b45a",
    "execution": {
     "iopub.execute_input": "2023-11-11T20:05:27.944941Z",
     "iopub.status.busy": "2023-11-11T20:05:27.944413Z",
     "iopub.status.idle": "2023-11-11T20:05:30.432140Z",
     "shell.execute_reply": "2023-11-11T20:05:30.431233Z"
    },
    "papermill": {
     "duration": 2.499669,
     "end_time": "2023-11-11T20:05:30.434485",
     "exception": false,
     "start_time": "2023-11-11T20:05:27.934816",
     "status": "completed"
    },
    "tags": []
   },
   "outputs": [
    {
     "data": {
      "text/html": [
       "<div>\n",
       "<style scoped>\n",
       "    .dataframe tbody tr th:only-of-type {\n",
       "        vertical-align: middle;\n",
       "    }\n",
       "\n",
       "    .dataframe tbody tr th {\n",
       "        vertical-align: top;\n",
       "    }\n",
       "\n",
       "    .dataframe thead th {\n",
       "        text-align: right;\n",
       "    }\n",
       "</style>\n",
       "<table border=\"1\" class=\"dataframe\">\n",
       "  <thead>\n",
       "    <tr style=\"text-align: right;\">\n",
       "      <th></th>\n",
       "      <th>Unnamed: 0</th>\n",
       "      <th>type</th>\n",
       "      <th>review</th>\n",
       "      <th>label</th>\n",
       "      <th>file</th>\n",
       "    </tr>\n",
       "  </thead>\n",
       "  <tbody>\n",
       "    <tr>\n",
       "      <th>0</th>\n",
       "      <td>0</td>\n",
       "      <td>test</td>\n",
       "      <td>Once again Mr. Costner has dragged out a movie...</td>\n",
       "      <td>neg</td>\n",
       "      <td>0_2.txt</td>\n",
       "    </tr>\n",
       "    <tr>\n",
       "      <th>1</th>\n",
       "      <td>1</td>\n",
       "      <td>test</td>\n",
       "      <td>This is an example of why the majority of acti...</td>\n",
       "      <td>neg</td>\n",
       "      <td>10000_4.txt</td>\n",
       "    </tr>\n",
       "    <tr>\n",
       "      <th>2</th>\n",
       "      <td>2</td>\n",
       "      <td>test</td>\n",
       "      <td>First of all I hate those moronic rappers, who...</td>\n",
       "      <td>neg</td>\n",
       "      <td>10001_1.txt</td>\n",
       "    </tr>\n",
       "    <tr>\n",
       "      <th>3</th>\n",
       "      <td>3</td>\n",
       "      <td>test</td>\n",
       "      <td>Not even the Beatles could write songs everyon...</td>\n",
       "      <td>neg</td>\n",
       "      <td>10002_3.txt</td>\n",
       "    </tr>\n",
       "    <tr>\n",
       "      <th>4</th>\n",
       "      <td>4</td>\n",
       "      <td>test</td>\n",
       "      <td>Brass pictures (movies is not a fitting word f...</td>\n",
       "      <td>neg</td>\n",
       "      <td>10003_3.txt</td>\n",
       "    </tr>\n",
       "  </tbody>\n",
       "</table>\n",
       "</div>"
      ],
      "text/plain": [
       "   Unnamed: 0  type                                             review label  \\\n",
       "0           0  test  Once again Mr. Costner has dragged out a movie...   neg   \n",
       "1           1  test  This is an example of why the majority of acti...   neg   \n",
       "2           2  test  First of all I hate those moronic rappers, who...   neg   \n",
       "3           3  test  Not even the Beatles could write songs everyon...   neg   \n",
       "4           4  test  Brass pictures (movies is not a fitting word f...   neg   \n",
       "\n",
       "          file  \n",
       "0      0_2.txt  \n",
       "1  10000_4.txt  \n",
       "2  10001_1.txt  \n",
       "3  10002_3.txt  \n",
       "4  10003_3.txt  "
      ]
     },
     "execution_count": 3,
     "metadata": {},
     "output_type": "execute_result"
    }
   ],
   "source": [
    "imdb_data = pd.read_csv('../input/imdb-review-dataset/imdb_master.csv',encoding=\"latin-1\")\n",
    "imdb_data.head()\n"
   ]
  },
  {
   "cell_type": "code",
   "execution_count": 4,
   "id": "a30e2ac6",
   "metadata": {
    "_uuid": "412c843421ad8cb8aaac78abdf0b2841fa4c4515",
    "execution": {
     "iopub.execute_input": "2023-11-11T20:05:30.454962Z",
     "iopub.status.busy": "2023-11-11T20:05:30.454618Z",
     "iopub.status.idle": "2023-11-11T20:05:30.469584Z",
     "shell.execute_reply": "2023-11-11T20:05:30.468868Z"
    },
    "papermill": {
     "duration": 0.026854,
     "end_time": "2023-11-11T20:05:30.471369",
     "exception": false,
     "start_time": "2023-11-11T20:05:30.444515",
     "status": "completed"
    },
    "tags": []
   },
   "outputs": [],
   "source": [
    "imdb_data = imdb_data.drop([\"Unnamed: 0\",\"type\",\"file\"],axis=1)"
   ]
  },
  {
   "cell_type": "code",
   "execution_count": 5,
   "id": "efca7fbe",
   "metadata": {
    "_uuid": "bf4aba61a506be1a7a16c080f0347631d12cbdb8",
    "execution": {
     "iopub.execute_input": "2023-11-11T20:05:30.490019Z",
     "iopub.status.busy": "2023-11-11T20:05:30.489743Z",
     "iopub.status.idle": "2023-11-11T20:05:30.501940Z",
     "shell.execute_reply": "2023-11-11T20:05:30.501117Z"
    },
    "papermill": {
     "duration": 0.023533,
     "end_time": "2023-11-11T20:05:30.503913",
     "exception": false,
     "start_time": "2023-11-11T20:05:30.480380",
     "status": "completed"
    },
    "tags": []
   },
   "outputs": [],
   "source": [
    "imdb_data['sentiment'] = imdb_data['label'].map({\"neg\":0, \"pos\":1})"
   ]
  },
  {
   "cell_type": "code",
   "execution_count": 6,
   "id": "a2a30d15",
   "metadata": {
    "_uuid": "0b55dd431023e6e8c2d0406781127aefa1c2c272",
    "execution": {
     "iopub.execute_input": "2023-11-11T20:05:30.523307Z",
     "iopub.status.busy": "2023-11-11T20:05:30.522547Z",
     "iopub.status.idle": "2023-11-11T20:05:30.530097Z",
     "shell.execute_reply": "2023-11-11T20:05:30.529421Z"
    },
    "papermill": {
     "duration": 0.019366,
     "end_time": "2023-11-11T20:05:30.531955",
     "exception": false,
     "start_time": "2023-11-11T20:05:30.512589",
     "status": "completed"
    },
    "tags": []
   },
   "outputs": [],
   "source": [
    "imdb_data = imdb_data.drop([\"label\"],axis=1)"
   ]
  },
  {
   "cell_type": "code",
   "execution_count": 7,
   "id": "c8257861",
   "metadata": {
    "_uuid": "8b4e07e3f201eda3138354e13b28f8b0a84dbc8b",
    "execution": {
     "iopub.execute_input": "2023-11-11T20:05:30.551283Z",
     "iopub.status.busy": "2023-11-11T20:05:30.550665Z",
     "iopub.status.idle": "2023-11-11T20:05:30.568920Z",
     "shell.execute_reply": "2023-11-11T20:05:30.568069Z"
    },
    "papermill": {
     "duration": 0.029793,
     "end_time": "2023-11-11T20:05:30.570862",
     "exception": false,
     "start_time": "2023-11-11T20:05:30.541069",
     "status": "completed"
    },
    "tags": []
   },
   "outputs": [],
   "source": [
    "imdb_data = imdb_data.dropna()"
   ]
  },
  {
   "cell_type": "code",
   "execution_count": 8,
   "id": "48118939",
   "metadata": {
    "_uuid": "0b9788071e52e8cdd98af923184f7447c4bab376",
    "execution": {
     "iopub.execute_input": "2023-11-11T20:05:30.589606Z",
     "iopub.status.busy": "2023-11-11T20:05:30.589318Z",
     "iopub.status.idle": "2023-11-11T20:05:30.595323Z",
     "shell.execute_reply": "2023-11-11T20:05:30.594395Z"
    },
    "papermill": {
     "duration": 0.017547,
     "end_time": "2023-11-11T20:05:30.597350",
     "exception": false,
     "start_time": "2023-11-11T20:05:30.579803",
     "status": "completed"
    },
    "tags": []
   },
   "outputs": [],
   "source": [
    "imdb_data = imdb_data[['sentiment','review']]"
   ]
  },
  {
   "cell_type": "code",
   "execution_count": 9,
   "id": "db538ba7",
   "metadata": {
    "_uuid": "cff5f137d8138c68daa63ff387f392152975ff10",
    "execution": {
     "iopub.execute_input": "2023-11-11T20:05:30.616962Z",
     "iopub.status.busy": "2023-11-11T20:05:30.616255Z",
     "iopub.status.idle": "2023-11-11T20:05:30.634915Z",
     "shell.execute_reply": "2023-11-11T20:05:30.633879Z"
    },
    "papermill": {
     "duration": 0.031099,
     "end_time": "2023-11-11T20:05:30.637096",
     "exception": false,
     "start_time": "2023-11-11T20:05:30.605997",
     "status": "completed"
    },
    "tags": []
   },
   "outputs": [
    {
     "data": {
      "text/html": [
       "<div>\n",
       "<style scoped>\n",
       "    .dataframe tbody tr th:only-of-type {\n",
       "        vertical-align: middle;\n",
       "    }\n",
       "\n",
       "    .dataframe tbody tr th {\n",
       "        vertical-align: top;\n",
       "    }\n",
       "\n",
       "    .dataframe thead th {\n",
       "        text-align: right;\n",
       "    }\n",
       "</style>\n",
       "<table border=\"1\" class=\"dataframe\">\n",
       "  <thead>\n",
       "    <tr style=\"text-align: right;\">\n",
       "      <th></th>\n",
       "      <th>id</th>\n",
       "      <th>sentiment</th>\n",
       "      <th>review</th>\n",
       "    </tr>\n",
       "  </thead>\n",
       "  <tbody>\n",
       "    <tr>\n",
       "      <th>0</th>\n",
       "      <td>\"5814_8\"</td>\n",
       "      <td>1</td>\n",
       "      <td>\"With all this stuff going down at the moment ...</td>\n",
       "    </tr>\n",
       "    <tr>\n",
       "      <th>1</th>\n",
       "      <td>\"2381_9\"</td>\n",
       "      <td>1</td>\n",
       "      <td>\"\\\"The Classic War of the Worlds\\\" by Timothy ...</td>\n",
       "    </tr>\n",
       "    <tr>\n",
       "      <th>2</th>\n",
       "      <td>\"7759_3\"</td>\n",
       "      <td>0</td>\n",
       "      <td>\"The film starts with a manager (Nicholas Bell...</td>\n",
       "    </tr>\n",
       "    <tr>\n",
       "      <th>3</th>\n",
       "      <td>\"3630_4\"</td>\n",
       "      <td>0</td>\n",
       "      <td>\"It must be assumed that those who praised thi...</td>\n",
       "    </tr>\n",
       "    <tr>\n",
       "      <th>4</th>\n",
       "      <td>\"9495_8\"</td>\n",
       "      <td>1</td>\n",
       "      <td>\"Superbly trashy and wondrously unpretentious ...</td>\n",
       "    </tr>\n",
       "  </tbody>\n",
       "</table>\n",
       "</div>"
      ],
      "text/plain": [
       "         id  sentiment                                             review\n",
       "0  \"5814_8\"          1  \"With all this stuff going down at the moment ...\n",
       "1  \"2381_9\"          1  \"\\\"The Classic War of the Worlds\\\" by Timothy ...\n",
       "2  \"7759_3\"          0  \"The film starts with a manager (Nicholas Bell...\n",
       "3  \"3630_4\"          0  \"It must be assumed that those who praised thi...\n",
       "4  \"9495_8\"          1  \"Superbly trashy and wondrously unpretentious ..."
      ]
     },
     "execution_count": 9,
     "metadata": {},
     "output_type": "execute_result"
    }
   ],
   "source": [
    "raw_train_data_labeled.head()"
   ]
  },
  {
   "cell_type": "code",
   "execution_count": 10,
   "id": "59dc1559",
   "metadata": {
    "_uuid": "7ae981562a1dc0c8ff6c655fcd5a04510e1d5198",
    "execution": {
     "iopub.execute_input": "2023-11-11T20:05:30.657778Z",
     "iopub.status.busy": "2023-11-11T20:05:30.657171Z",
     "iopub.status.idle": "2023-11-11T20:05:30.665567Z",
     "shell.execute_reply": "2023-11-11T20:05:30.664759Z"
    },
    "papermill": {
     "duration": 0.020777,
     "end_time": "2023-11-11T20:05:30.667462",
     "exception": false,
     "start_time": "2023-11-11T20:05:30.646685",
     "status": "completed"
    },
    "tags": []
   },
   "outputs": [
    {
     "data": {
      "text/html": [
       "<div>\n",
       "<style scoped>\n",
       "    .dataframe tbody tr th:only-of-type {\n",
       "        vertical-align: middle;\n",
       "    }\n",
       "\n",
       "    .dataframe tbody tr th {\n",
       "        vertical-align: top;\n",
       "    }\n",
       "\n",
       "    .dataframe thead th {\n",
       "        text-align: right;\n",
       "    }\n",
       "</style>\n",
       "<table border=\"1\" class=\"dataframe\">\n",
       "  <thead>\n",
       "    <tr style=\"text-align: right;\">\n",
       "      <th></th>\n",
       "      <th>id</th>\n",
       "      <th>review</th>\n",
       "    </tr>\n",
       "  </thead>\n",
       "  <tbody>\n",
       "    <tr>\n",
       "      <th>0</th>\n",
       "      <td>\"9999_0\"</td>\n",
       "      <td>\"Watching Time Chasers, it obvious that it was...</td>\n",
       "    </tr>\n",
       "    <tr>\n",
       "      <th>1</th>\n",
       "      <td>\"45057_0\"</td>\n",
       "      <td>\"I saw this film about 20 years ago and rememb...</td>\n",
       "    </tr>\n",
       "    <tr>\n",
       "      <th>2</th>\n",
       "      <td>\"15561_0\"</td>\n",
       "      <td>\"Minor Spoilers&lt;br /&gt;&lt;br /&gt;In New York, Joan B...</td>\n",
       "    </tr>\n",
       "    <tr>\n",
       "      <th>3</th>\n",
       "      <td>\"7161_0\"</td>\n",
       "      <td>\"I went to see this film with a great deal of ...</td>\n",
       "    </tr>\n",
       "    <tr>\n",
       "      <th>4</th>\n",
       "      <td>\"43971_0\"</td>\n",
       "      <td>\"Yes, I agree with everyone on this site this ...</td>\n",
       "    </tr>\n",
       "  </tbody>\n",
       "</table>\n",
       "</div>"
      ],
      "text/plain": [
       "          id                                             review\n",
       "0   \"9999_0\"  \"Watching Time Chasers, it obvious that it was...\n",
       "1  \"45057_0\"  \"I saw this film about 20 years ago and rememb...\n",
       "2  \"15561_0\"  \"Minor Spoilers<br /><br />In New York, Joan B...\n",
       "3   \"7161_0\"  \"I went to see this film with a great deal of ...\n",
       "4  \"43971_0\"  \"Yes, I agree with everyone on this site this ..."
      ]
     },
     "execution_count": 10,
     "metadata": {},
     "output_type": "execute_result"
    }
   ],
   "source": [
    "raw_train_data_unlabeled.head()"
   ]
  },
  {
   "cell_type": "code",
   "execution_count": 11,
   "id": "12aa37e8",
   "metadata": {
    "_uuid": "69e646e0883accb0a15afcc4232cecaf0e502aba",
    "execution": {
     "iopub.execute_input": "2023-11-11T20:05:30.688527Z",
     "iopub.status.busy": "2023-11-11T20:05:30.688031Z",
     "iopub.status.idle": "2023-11-11T20:05:30.692059Z",
     "shell.execute_reply": "2023-11-11T20:05:30.691219Z"
    },
    "papermill": {
     "duration": 0.01658,
     "end_time": "2023-11-11T20:05:30.694155",
     "exception": false,
     "start_time": "2023-11-11T20:05:30.677575",
     "status": "completed"
    },
    "tags": []
   },
   "outputs": [],
   "source": [
    "X = raw_train_data_labeled['review']\n",
    "y = raw_train_data_labeled['sentiment']"
   ]
  },
  {
   "cell_type": "code",
   "execution_count": 12,
   "id": "71c1db07",
   "metadata": {
    "_uuid": "ae2f8fa01ddf609e4dd0877a1cd8e22fa787d7e0",
    "execution": {
     "iopub.execute_input": "2023-11-11T20:05:30.714909Z",
     "iopub.status.busy": "2023-11-11T20:05:30.714608Z",
     "iopub.status.idle": "2023-11-11T20:05:30.720506Z",
     "shell.execute_reply": "2023-11-11T20:05:30.719755Z"
    },
    "papermill": {
     "duration": 0.018127,
     "end_time": "2023-11-11T20:05:30.722430",
     "exception": false,
     "start_time": "2023-11-11T20:05:30.704303",
     "status": "completed"
    },
    "tags": []
   },
   "outputs": [],
   "source": [
    "review_data = pd.concat([X, raw_test_data['review']])"
   ]
  },
  {
   "cell_type": "code",
   "execution_count": 13,
   "id": "f1d040c9",
   "metadata": {
    "_uuid": "ca02977d61ee228eefb9658c5187ea061dfeaa64",
    "execution": {
     "iopub.execute_input": "2023-11-11T20:05:30.742569Z",
     "iopub.status.busy": "2023-11-11T20:05:30.741963Z",
     "iopub.status.idle": "2023-11-11T20:05:30.748449Z",
     "shell.execute_reply": "2023-11-11T20:05:30.747664Z"
    },
    "papermill": {
     "duration": 0.018582,
     "end_time": "2023-11-11T20:05:30.750434",
     "exception": false,
     "start_time": "2023-11-11T20:05:30.731852",
     "status": "completed"
    },
    "tags": []
   },
   "outputs": [],
   "source": [
    "review_data = pd.concat([review_data, imdb_data['review']])"
   ]
  },
  {
   "cell_type": "code",
   "execution_count": 14,
   "id": "d2ec9dd9",
   "metadata": {
    "execution": {
     "iopub.execute_input": "2023-11-11T20:05:30.770941Z",
     "iopub.status.busy": "2023-11-11T20:05:30.770677Z",
     "iopub.status.idle": "2023-11-11T20:05:30.777722Z",
     "shell.execute_reply": "2023-11-11T20:05:30.776785Z"
    },
    "papermill": {
     "duration": 0.019098,
     "end_time": "2023-11-11T20:05:30.779703",
     "exception": false,
     "start_time": "2023-11-11T20:05:30.760605",
     "status": "completed"
    },
    "tags": []
   },
   "outputs": [
    {
     "data": {
      "text/plain": [
       "0        \"With all this stuff going down at the moment ...\n",
       "1        \"\\\"The Classic War of the Worlds\\\" by Timothy ...\n",
       "2        \"The film starts with a manager (Nicholas Bell...\n",
       "3        \"It must be assumed that those who praised thi...\n",
       "4        \"Superbly trashy and wondrously unpretentious ...\n",
       "                               ...                        \n",
       "49995    Seeing as the vote average was pretty low, and...\n",
       "49996    The plot had some wretched, unbelievable twist...\n",
       "49997    I am amazed at how this movie(and most others ...\n",
       "49998    A Christmas Together actually came before my t...\n",
       "49999    Working-class romantic drama from director Mar...\n",
       "Name: review, Length: 100000, dtype: object"
      ]
     },
     "execution_count": 14,
     "metadata": {},
     "output_type": "execute_result"
    }
   ],
   "source": [
    "review_data"
   ]
  },
  {
   "cell_type": "code",
   "execution_count": 15,
   "id": "45610f86",
   "metadata": {
    "_uuid": "bd3cb84028cca739b7b14133460644eebb5c6800",
    "execution": {
     "iopub.execute_input": "2023-11-11T20:05:30.799246Z",
     "iopub.status.busy": "2023-11-11T20:05:30.798979Z",
     "iopub.status.idle": "2023-11-11T20:05:30.804233Z",
     "shell.execute_reply": "2023-11-11T20:05:30.803304Z"
    },
    "papermill": {
     "duration": 0.017279,
     "end_time": "2023-11-11T20:05:30.806112",
     "exception": false,
     "start_time": "2023-11-11T20:05:30.788833",
     "status": "completed"
    },
    "tags": []
   },
   "outputs": [
    {
     "data": {
      "text/plain": [
       "(100000,)"
      ]
     },
     "execution_count": 15,
     "metadata": {},
     "output_type": "execute_result"
    }
   ],
   "source": [
    "review_data.shape"
   ]
  },
  {
   "cell_type": "code",
   "execution_count": 16,
   "id": "7281f8ce",
   "metadata": {
    "_uuid": "1c505c97e839b2ebeb2f8b1505660496cb73d727",
    "execution": {
     "iopub.execute_input": "2023-11-11T20:05:30.827082Z",
     "iopub.status.busy": "2023-11-11T20:05:30.826756Z",
     "iopub.status.idle": "2023-11-11T20:05:30.842048Z",
     "shell.execute_reply": "2023-11-11T20:05:30.841340Z"
    },
    "papermill": {
     "duration": 0.028362,
     "end_time": "2023-11-11T20:05:30.843891",
     "exception": false,
     "start_time": "2023-11-11T20:05:30.815529",
     "status": "completed"
    },
    "tags": []
   },
   "outputs": [],
   "source": [
    "ntrain = X.shape[0]\n",
    "df = pd.concat([raw_train_data_labeled, raw_test_data])\n",
    "df = df.drop(['sentiment'], axis=1)\n",
    "df_review = df['review']"
   ]
  },
  {
   "cell_type": "code",
   "execution_count": 17,
   "id": "0267ceff",
   "metadata": {
    "_uuid": "1dd50a20edb8f578a8ab8f9d533c2d52df93183c",
    "execution": {
     "iopub.execute_input": "2023-11-11T20:05:30.864336Z",
     "iopub.status.busy": "2023-11-11T20:05:30.864089Z",
     "iopub.status.idle": "2023-11-11T20:11:03.544173Z",
     "shell.execute_reply": "2023-11-11T20:11:03.543011Z"
    },
    "papermill": {
     "duration": 332.69323,
     "end_time": "2023-11-11T20:11:03.546806",
     "exception": false,
     "start_time": "2023-11-11T20:05:30.853576",
     "status": "completed"
    },
    "tags": []
   },
   "outputs": [],
   "source": [
    "import string\n",
    "\n",
    "review_lines = list()\n",
    "lines = review_data.values.tolist()\n",
    "\n",
    "for line in lines:\n",
    "    \n",
    "    tokens = word_tokenize(line)   \n",
    "    \n",
    "     #convert to lower case\n",
    "    tokens = [w.lower() for w in tokens]\n",
    "    \n",
    "    #remove punctuation from each word\n",
    "    # brief detail: https://pythonadventures.wordpress.com/2017/02/05/remove-punctuations-from-a-text/\n",
    "    table = str.maketrans('','', string.punctuation)\n",
    "    stripped = [w.translate(table) for w in tokens]\n",
    "     \n",
    "    # remove remaining tokens that are not alphabetic\n",
    "    words = [w for w in stripped if w.isalpha()]\n",
    "    \n",
    "    # filter out stop words\n",
    "    stop_words = set(stopwords.words('english'))\n",
    "    words = [w for w in words if w not in stop_words]\n",
    "    \n",
    "    review_lines.append(words)"
   ]
  },
  {
   "cell_type": "code",
   "execution_count": 18,
   "id": "bb1497ea",
   "metadata": {
    "_uuid": "ae04942364945ebfde23943ad80dc622f6d8791d",
    "execution": {
     "iopub.execute_input": "2023-11-11T20:11:03.568933Z",
     "iopub.status.busy": "2023-11-11T20:11:03.568615Z",
     "iopub.status.idle": "2023-11-11T20:12:42.563974Z",
     "shell.execute_reply": "2023-11-11T20:12:42.562937Z"
    },
    "papermill": {
     "duration": 99.018086,
     "end_time": "2023-11-11T20:12:42.575595",
     "exception": false,
     "start_time": "2023-11-11T20:11:03.557509",
     "status": "completed"
    },
    "tags": []
   },
   "outputs": [
    {
     "name": "stdout",
     "output_type": "stream",
     "text": [
      "vocab size: 135639\n"
     ]
    }
   ],
   "source": [
    "import gensim\n",
    "\n",
    "embedding_vector_size = 150\n",
    "model_1 = gensim.models.Word2Vec(sentences = review_lines, vector_size=embedding_vector_size, min_count=1, window=5, workers=4 )\n",
    "words = list(model_1.wv.key_to_index)\n",
    "\n",
    "print(\"vocab size:\", len(words))"
   ]
  },
  {
   "cell_type": "code",
   "execution_count": 19,
   "id": "e816a7a9",
   "metadata": {
    "_uuid": "3b3de65731787dfcc4fc01cec9a344a66e6bd384",
    "execution": {
     "iopub.execute_input": "2023-11-11T20:12:42.596828Z",
     "iopub.status.busy": "2023-11-11T20:12:42.595977Z",
     "iopub.status.idle": "2023-11-11T20:12:43.463006Z",
     "shell.execute_reply": "2023-11-11T20:12:43.462086Z"
    },
    "papermill": {
     "duration": 0.879743,
     "end_time": "2023-11-11T20:12:43.465032",
     "exception": false,
     "start_time": "2023-11-11T20:12:42.585289",
     "status": "completed"
    },
    "tags": []
   },
   "outputs": [
    {
     "data": {
      "text/plain": [
       "Text(0, 0.5, 'frequency')"
      ]
     },
     "execution_count": 19,
     "metadata": {},
     "output_type": "execute_result"
    },
    {
     "data": {
      "image/png": "[encoded data removed]",
      "text/plain": [
       "<Figure size 640x480 with 1 Axes>"
      ]
     },
     "metadata": {},
     "output_type": "display_data"
    }
   ],
   "source": [
    "leng=0\n",
    "length = [(leng + len(x)) for x in review_lines]\n",
    "plt.hist(length)\n",
    "plt.xlabel('length of words')\n",
    "plt.ylabel('frequency')"
   ]
  },
  {
   "cell_type": "code",
   "execution_count": 20,
   "id": "ee60160a",
   "metadata": {
    "_uuid": "921711312ca9cad19ed8c926b973654e6abd3ceb",
    "execution": {
     "iopub.execute_input": "2023-11-11T20:12:43.486848Z",
     "iopub.status.busy": "2023-11-11T20:12:43.486547Z",
     "iopub.status.idle": "2023-11-11T20:12:43.492524Z",
     "shell.execute_reply": "2023-11-11T20:12:43.491460Z"
    },
    "papermill": {
     "duration": 0.019282,
     "end_time": "2023-11-11T20:12:43.494482",
     "exception": false,
     "start_time": "2023-11-11T20:12:43.475200",
     "status": "completed"
    },
    "tags": []
   },
   "outputs": [
    {
     "name": "stdout",
     "output_type": "stream",
     "text": [
      "122.12747\n"
     ]
    }
   ],
   "source": [
    "import math\n",
    "avg_length = sum(length)/len(review_lines)\n",
    "print(avg_length)"
   ]
  },
  {
   "cell_type": "code",
   "execution_count": 21,
   "id": "6802ee67",
   "metadata": {
    "_uuid": "507aa8c0fb3e266d51edb692ad71bd50aad84a10",
    "execution": {
     "iopub.execute_input": "2023-11-11T20:12:43.516240Z",
     "iopub.status.busy": "2023-11-11T20:12:43.515948Z",
     "iopub.status.idle": "2023-11-11T20:12:43.519981Z",
     "shell.execute_reply": "2023-11-11T20:12:43.519111Z"
    },
    "papermill": {
     "duration": 0.017303,
     "end_time": "2023-11-11T20:12:43.522074",
     "exception": false,
     "start_time": "2023-11-11T20:12:43.504771",
     "status": "completed"
    },
    "tags": []
   },
   "outputs": [],
   "source": [
    "max_len = math.ceil(avg_length) "
   ]
  },
  {
   "cell_type": "code",
   "execution_count": 22,
   "id": "8a2fba81",
   "metadata": {
    "_uuid": "fe27d22f6d3fb3b3a269aae6d7cb28e208e514a1",
    "execution": {
     "iopub.execute_input": "2023-11-11T20:12:43.589274Z",
     "iopub.status.busy": "2023-11-11T20:12:43.588665Z",
     "iopub.status.idle": "2023-11-11T20:13:01.590445Z",
     "shell.execute_reply": "2023-11-11T20:13:01.589587Z"
    },
    "papermill": {
     "duration": 18.016031,
     "end_time": "2023-11-11T20:13:01.592901",
     "exception": false,
     "start_time": "2023-11-11T20:12:43.576870",
     "status": "completed"
    },
    "tags": []
   },
   "outputs": [],
   "source": [
    "max_features = 6000\n",
    "tokenizer = Tokenizer(num_words=max_features)  \n",
    "train_test_data = review_lines                       \n",
    "tokenizer.fit_on_texts(train_test_data)\n",
    "sequence = tokenizer.texts_to_sequences(train_test_data)\n",
    "train_test_data = pad_sequences(sequence, maxlen = max_len)"
   ]
  },
  {
   "cell_type": "code",
   "execution_count": 23,
   "id": "300b7fa3",
   "metadata": {
    "_uuid": "0b6cab0b83856550162999db22715d7fe0886612",
    "execution": {
     "iopub.execute_input": "2023-11-11T20:13:01.616060Z",
     "iopub.status.busy": "2023-11-11T20:13:01.615507Z",
     "iopub.status.idle": "2023-11-11T20:13:02.196666Z",
     "shell.execute_reply": "2023-11-11T20:13:02.195830Z"
    },
    "papermill": {
     "duration": 0.595015,
     "end_time": "2023-11-11T20:13:02.198895",
     "exception": false,
     "start_time": "2023-11-11T20:13:01.603880",
     "status": "completed"
    },
    "tags": []
   },
   "outputs": [],
   "source": [
    "vocab_size = len(tokenizer.word_index)+1\n",
    "embedding_matrix = np.zeros((vocab_size, embedding_vector_size))\n",
    "# +1 is done because i starts from 1 instead of 0, and goes till len(vocab)\n",
    "for  word, i in tokenizer.word_index.items():\n",
    "    embedding_vector = model_1.wv[word]\n",
    "    if embedding_vector is not None:\n",
    "        embedding_matrix[i] = embedding_vector"
   ]
  },
  {
   "cell_type": "code",
   "execution_count": 24,
   "id": "a185ee42",
   "metadata": {
    "_uuid": "fdad67b3996ca6c1690f5e3b35aff85ce0672c2e",
    "execution": {
     "iopub.execute_input": "2023-11-11T20:13:02.220738Z",
     "iopub.status.busy": "2023-11-11T20:13:02.220443Z",
     "iopub.status.idle": "2023-11-11T20:13:02.240053Z",
     "shell.execute_reply": "2023-11-11T20:13:02.239172Z"
    },
    "papermill": {
     "duration": 0.032625,
     "end_time": "2023-11-11T20:13:02.242113",
     "exception": false,
     "start_time": "2023-11-11T20:13:02.209488",
     "status": "completed"
    },
    "tags": []
   },
   "outputs": [],
   "source": [
    "X = train_test_data[:ntrain,:]\n",
    "X = np.append(X,train_test_data[ntrain+25000: ,:])\n",
    "X = X.reshape(-1,123)\n",
    "y1 = pd.concat([y, imdb_data['sentiment']])"
   ]
  },
  {
   "cell_type": "code",
   "execution_count": 25,
   "id": "edd5b54d",
   "metadata": {
    "_uuid": "a0ffcc8e80601ef653034506b5d22db5c6cad1ad",
    "execution": {
     "iopub.execute_input": "2023-11-11T20:13:02.264109Z",
     "iopub.status.busy": "2023-11-11T20:13:02.263830Z",
     "iopub.status.idle": "2023-11-11T20:13:02.290625Z",
     "shell.execute_reply": "2023-11-11T20:13:02.289741Z"
    },
    "papermill": {
     "duration": 0.040316,
     "end_time": "2023-11-11T20:13:02.293143",
     "exception": false,
     "start_time": "2023-11-11T20:13:02.252827",
     "status": "completed"
    },
    "tags": []
   },
   "outputs": [],
   "source": [
    "X_train, X_test, y_train, y_test = train_test_split(X , y1, test_size=0.2, random_state=42, shuffle=True)"
   ]
  },
  {
   "cell_type": "code",
   "execution_count": 26,
   "id": "c86ae8b3",
   "metadata": {
    "_uuid": "d5d8d48d3220e50093e230bb92927acf8000b78b",
    "execution": {
     "iopub.execute_input": "2023-11-11T20:13:02.318024Z",
     "iopub.status.busy": "2023-11-11T20:13:02.317245Z",
     "iopub.status.idle": "2023-11-11T20:13:07.047981Z",
     "shell.execute_reply": "2023-11-11T20:13:07.047167Z"
    },
    "papermill": {
     "duration": 4.745756,
     "end_time": "2023-11-11T20:13:07.050404",
     "exception": false,
     "start_time": "2023-11-11T20:13:02.304648",
     "status": "completed"
    },
    "tags": []
   },
   "outputs": [],
   "source": [
    "model = Sequential()\n",
    "\n",
    "model.add(Embedding(input_dim = vocab_size, output_dim = embedding_vector_size, \n",
    "                    input_length = max_len, weights = [embedding_matrix]))\n",
    "model.add(Bidirectional(LSTM(64, dropout=0.25, recurrent_dropout=0.1)))\n",
    "model.add(Dense(10))\n",
    "model.add(Dropout(0.3))\n",
    "model.add(Dense(1, activation='sigmoid'))"
   ]
  },
  {
   "cell_type": "code",
   "execution_count": 27,
   "id": "e4084590",
   "metadata": {
    "_uuid": "62ad68e3ab52c2b5ebdead844eb17d836cf1f140",
    "execution": {
     "iopub.execute_input": "2023-11-11T20:13:07.074702Z",
     "iopub.status.busy": "2023-11-11T20:13:07.074314Z",
     "iopub.status.idle": "2023-11-11T20:13:07.079016Z",
     "shell.execute_reply": "2023-11-11T20:13:07.078126Z"
    },
    "papermill": {
     "duration": 0.018578,
     "end_time": "2023-11-11T20:13:07.080906",
     "exception": false,
     "start_time": "2023-11-11T20:13:07.062328",
     "status": "completed"
    },
    "tags": []
   },
   "outputs": [],
   "source": [
    "learning_rate_reduction = ReduceLROnPlateau(monitor='val_acc', \n",
    "                                            patience=3, \n",
    "                                            verbose=1, \n",
    "                                            factor=0.5, \n",
    "                                            min_lr=0.00001)"
   ]
  },
  {
   "cell_type": "code",
   "execution_count": 28,
   "id": "03f78294",
   "metadata": {
    "_uuid": "077194cdb8628183b530c3edb9b8cc0d12ffe53a",
    "execution": {
     "iopub.execute_input": "2023-11-11T20:13:07.103424Z",
     "iopub.status.busy": "2023-11-11T20:13:07.103131Z",
     "iopub.status.idle": "2023-11-11T20:49:56.700207Z",
     "shell.execute_reply": "2023-11-11T20:49:56.699229Z"
    },
    "papermill": {
     "duration": 2209.610715,
     "end_time": "2023-11-11T20:49:56.702391",
     "exception": false,
     "start_time": "2023-11-11T20:13:07.091676",
     "status": "completed"
    },
    "tags": []
   },
   "outputs": [
    {
     "name": "stdout",
     "output_type": "stream",
     "text": [
      "Model: \"sequential\"\n",
      "_________________________________________________________________\n",
      " Layer (type)                Output Shape              Param #   \n",
      "=================================================================\n",
      " embedding (Embedding)       (None, 123, 150)          20346000  \n",
      "                                                                 \n",
      " bidirectional (Bidirection  (None, 128)               110080    \n",
      " al)                                                             \n",
      "                                                                 \n",
      " dense (Dense)               (None, 10)                1290      \n",
      "                                                                 \n",
      " dropout (Dropout)           (None, 10)                0         \n",
      "                                                                 \n",
      " dense_1 (Dense)             (None, 1)                 11        \n",
      "                                                                 \n",
      "=================================================================\n",
      "Total params: 20457381 (78.04 MB)\n",
      "Trainable params: 20457381 (78.04 MB)\n",
      "Non-trainable params: 0 (0.00 Byte)\n",
      "_________________________________________________________________\n",
      "None\n",
      "Epoch 1/30\n",
      "86/86 [==============================] - 93s 960ms/step - loss: 0.4801 - acc: 0.7712 - val_loss: 0.4027 - val_acc: 0.8378 - lr: 0.0010\n",
      "Epoch 2/30\n",
      "86/86 [==============================] - 78s 909ms/step - loss: 0.3738 - acc: 0.8443 - val_loss: 0.3354 - val_acc: 0.8633 - lr: 0.0010\n",
      "Epoch 3/30\n",
      "86/86 [==============================] - 75s 868ms/step - loss: 0.3356 - acc: 0.8600 - val_loss: 0.3443 - val_acc: 0.8609 - lr: 0.0010\n",
      "Epoch 4/30\n",
      "86/86 [==============================] - 74s 861ms/step - loss: 0.3152 - acc: 0.8679 - val_loss: 0.2989 - val_acc: 0.8811 - lr: 0.0010\n",
      "Epoch 5/30\n",
      "86/86 [==============================] - 74s 862ms/step - loss: 0.2975 - acc: 0.8755 - val_loss: 0.2938 - val_acc: 0.8839 - lr: 0.0010\n",
      "Epoch 6/30\n",
      "86/86 [==============================] - 73s 852ms/step - loss: 0.2853 - acc: 0.8822 - val_loss: 0.2824 - val_acc: 0.8886 - lr: 0.0010\n",
      "Epoch 7/30\n",
      "86/86 [==============================] - 73s 854ms/step - loss: 0.2733 - acc: 0.8888 - val_loss: 0.2827 - val_acc: 0.8857 - lr: 0.0010\n",
      "Epoch 8/30\n",
      "86/86 [==============================] - 73s 850ms/step - loss: 0.2623 - acc: 0.8920 - val_loss: 0.3196 - val_acc: 0.8766 - lr: 0.0010\n",
      "Epoch 9/30\n",
      "86/86 [==============================] - 73s 851ms/step - loss: 0.2532 - acc: 0.8973 - val_loss: 0.2649 - val_acc: 0.8917 - lr: 0.0010\n",
      "Epoch 10/30\n",
      "86/86 [==============================] - 74s 857ms/step - loss: 0.2440 - acc: 0.9016 - val_loss: 0.2860 - val_acc: 0.8869 - lr: 0.0010\n",
      "Epoch 11/30\n",
      "86/86 [==============================] - 73s 853ms/step - loss: 0.2338 - acc: 0.9057 - val_loss: 0.2529 - val_acc: 0.9029 - lr: 0.0010\n",
      "Epoch 12/30\n",
      "86/86 [==============================] - 73s 845ms/step - loss: 0.2277 - acc: 0.9099 - val_loss: 0.2560 - val_acc: 0.8984 - lr: 0.0010\n",
      "Epoch 13/30\n",
      "86/86 [==============================] - 73s 847ms/step - loss: 0.2159 - acc: 0.9137 - val_loss: 0.2542 - val_acc: 0.9055 - lr: 0.0010\n",
      "Epoch 14/30\n",
      "86/86 [==============================] - 73s 854ms/step - loss: 0.2076 - acc: 0.9175 - val_loss: 0.2692 - val_acc: 0.8965 - lr: 0.0010\n",
      "Epoch 15/30\n",
      "86/86 [==============================] - 73s 848ms/step - loss: 0.2013 - acc: 0.9204 - val_loss: 0.2756 - val_acc: 0.9010 - lr: 0.0010\n",
      "Epoch 16/30\n",
      "86/86 [==============================] - 72s 843ms/step - loss: 0.1940 - acc: 0.9232 - val_loss: 0.2448 - val_acc: 0.9104 - lr: 0.0010\n",
      "Epoch 17/30\n",
      "86/86 [==============================] - 74s 859ms/step - loss: 0.1871 - acc: 0.9260 - val_loss: 0.2388 - val_acc: 0.9115 - lr: 0.0010\n",
      "Epoch 18/30\n",
      "86/86 [==============================] - 73s 853ms/step - loss: 0.1822 - acc: 0.9286 - val_loss: 0.2744 - val_acc: 0.9081 - lr: 0.0010\n",
      "Epoch 19/30\n",
      "86/86 [==============================] - 73s 851ms/step - loss: 0.1739 - acc: 0.9324 - val_loss: 0.2737 - val_acc: 0.9058 - lr: 0.0010\n",
      "Epoch 20/30\n",
      "86/86 [==============================] - 73s 854ms/step - loss: 0.1697 - acc: 0.9348 - val_loss: 0.2440 - val_acc: 0.9157 - lr: 0.0010\n",
      "Epoch 21/30\n",
      "86/86 [==============================] - 73s 847ms/step - loss: 0.1623 - acc: 0.9370 - val_loss: 0.2447 - val_acc: 0.9169 - lr: 0.0010\n",
      "Epoch 22/30\n",
      "86/86 [==============================] - 72s 836ms/step - loss: 0.1572 - acc: 0.9395 - val_loss: 0.2402 - val_acc: 0.9192 - lr: 0.0010\n",
      "Epoch 23/30\n",
      "86/86 [==============================] - 72s 839ms/step - loss: 0.1509 - acc: 0.9417 - val_loss: 0.2464 - val_acc: 0.9191 - lr: 0.0010\n",
      "Epoch 24/30\n",
      "86/86 [==============================] - 72s 833ms/step - loss: 0.1459 - acc: 0.9439 - val_loss: 0.2387 - val_acc: 0.9203 - lr: 0.0010\n",
      "Epoch 25/30\n",
      "86/86 [==============================] - 72s 835ms/step - loss: 0.1406 - acc: 0.9461 - val_loss: 0.2332 - val_acc: 0.9237 - lr: 0.0010\n",
      "Epoch 26/30\n",
      "86/86 [==============================] - 72s 833ms/step - loss: 0.1372 - acc: 0.9475 - val_loss: 0.2340 - val_acc: 0.9250 - lr: 0.0010\n",
      "Epoch 27/30\n",
      "86/86 [==============================] - 72s 835ms/step - loss: 0.1318 - acc: 0.9510 - val_loss: 0.2459 - val_acc: 0.9209 - lr: 0.0010\n",
      "Epoch 28/30\n",
      "86/86 [==============================] - 71s 828ms/step - loss: 0.1251 - acc: 0.9525 - val_loss: 0.2400 - val_acc: 0.9275 - lr: 0.0010\n",
      "Epoch 29/30\n",
      "86/86 [==============================] - 71s 826ms/step - loss: 0.1220 - acc: 0.9550 - val_loss: 0.2491 - val_acc: 0.9266 - lr: 0.0010\n",
      "Epoch 30/30\n",
      "86/86 [==============================] - 72s 832ms/step - loss: 0.1179 - acc: 0.9556 - val_loss: 0.2519 - val_acc: 0.9239 - lr: 0.0010\n"
     ]
    }
   ],
   "source": [
    "model.compile(optimizer='RMSprop', loss='binary_crossentropy', metrics=['acc'])\n",
    "print(model.summary())\n",
    "\n",
    "history = model.fit(X_train, y_train, epochs = 30, batch_size = 700, validation_data=(X_test, y_test),callbacks = [learning_rate_reduction])"
   ]
  },
  {
   "cell_type": "code",
   "execution_count": 29,
   "id": "314fc5b1",
   "metadata": {
    "_uuid": "4f68c7a2e7579a1f35587cad84d8e1fc0611c96e",
    "execution": {
     "iopub.execute_input": "2023-11-11T20:49:57.140603Z",
     "iopub.status.busy": "2023-11-11T20:49:57.139978Z",
     "iopub.status.idle": "2023-11-11T20:50:26.855726Z",
     "shell.execute_reply": "2023-11-11T20:50:26.854873Z"
    },
    "papermill": {
     "duration": 29.937609,
     "end_time": "2023-11-11T20:50:26.858040",
     "exception": false,
     "start_time": "2023-11-11T20:49:56.920431",
     "status": "completed"
    },
    "tags": []
   },
   "outputs": [
    {
     "name": "stdout",
     "output_type": "stream",
     "text": [
      "469/469 [==============================] - 29s 62ms/step\n"
     ]
    }
   ],
   "source": [
    "y_test_pred = model.predict(X_test)"
   ]
  },
  {
   "cell_type": "code",
   "execution_count": 30,
   "id": "0f0d0717",
   "metadata": {
    "_uuid": "d94bec332f4fecbb3cbbab89371b3400c234af71",
    "execution": {
     "iopub.execute_input": "2023-11-11T20:50:27.361726Z",
     "iopub.status.busy": "2023-11-11T20:50:27.360906Z",
     "iopub.status.idle": "2023-11-11T20:50:27.392383Z",
     "shell.execute_reply": "2023-11-11T20:50:27.391298Z"
    },
    "papermill": {
     "duration": 0.284308,
     "end_time": "2023-11-11T20:50:27.394444",
     "exception": false,
     "start_time": "2023-11-11T20:50:27.110136",
     "status": "completed"
    },
    "tags": []
   },
   "outputs": [
    {
     "name": "stderr",
     "output_type": "stream",
     "text": [
      "/opt/conda/lib/python3.10/site-packages/sklearn/utils/validation.py:605: FutureWarning: is_sparse is deprecated and will be removed in a future version. Check `isinstance(dtype, pd.SparseDtype)` instead.\n",
      "  if is_sparse(pd_dtype):\n",
      "/opt/conda/lib/python3.10/site-packages/sklearn/utils/validation.py:614: FutureWarning: is_sparse is deprecated and will be removed in a future version. Check `isinstance(dtype, pd.SparseDtype)` instead.\n",
      "  if is_sparse(pd_dtype) or not is_extension_array_dtype(pd_dtype):\n",
      "/opt/conda/lib/python3.10/site-packages/sklearn/utils/validation.py:605: FutureWarning: is_sparse is deprecated and will be removed in a future version. Check `isinstance(dtype, pd.SparseDtype)` instead.\n",
      "  if is_sparse(pd_dtype):\n",
      "/opt/conda/lib/python3.10/site-packages/sklearn/utils/validation.py:614: FutureWarning: is_sparse is deprecated and will be removed in a future version. Check `isinstance(dtype, pd.SparseDtype)` instead.\n",
      "  if is_sparse(pd_dtype) or not is_extension_array_dtype(pd_dtype):\n",
      "/opt/conda/lib/python3.10/site-packages/sklearn/utils/validation.py:605: FutureWarning: is_sparse is deprecated and will be removed in a future version. Check `isinstance(dtype, pd.SparseDtype)` instead.\n",
      "  if is_sparse(pd_dtype):\n",
      "/opt/conda/lib/python3.10/site-packages/sklearn/utils/validation.py:614: FutureWarning: is_sparse is deprecated and will be removed in a future version. Check `isinstance(dtype, pd.SparseDtype)` instead.\n",
      "  if is_sparse(pd_dtype) or not is_extension_array_dtype(pd_dtype):\n"
     ]
    },
    {
     "data": {
      "text/plain": [
       "0.9763632451508162"
      ]
     },
     "execution_count": 30,
     "metadata": {},
     "output_type": "execute_result"
    }
   ],
   "source": [
    "from sklearn.metrics import roc_auc_score\n",
    "roc_auc_score(y_test, y_test_pred, average = 'weighted')"
   ]
  },
  {
   "cell_type": "code",
   "execution_count": 31,
   "id": "c476bb65",
   "metadata": {
    "_uuid": "481cceaadcca94200f4389ff2b7efc39ffff920d",
    "execution": {
     "iopub.execute_input": "2023-11-11T20:50:27.897509Z",
     "iopub.status.busy": "2023-11-11T20:50:27.896825Z",
     "iopub.status.idle": "2023-11-11T20:51:17.729446Z",
     "shell.execute_reply": "2023-11-11T20:51:17.728598Z"
    },
    "papermill": {
     "duration": 50.086971,
     "end_time": "2023-11-11T20:51:17.731719",
     "exception": false,
     "start_time": "2023-11-11T20:50:27.644748",
     "status": "completed"
    },
    "tags": []
   },
   "outputs": [
    {
     "name": "stdout",
     "output_type": "stream",
     "text": [
      "782/782 [==============================] - 49s 63ms/step\n"
     ]
    }
   ],
   "source": [
    "y_pred = model.predict(train_test_data[ntrain:ntrain+25000 , :])"
   ]
  },
  {
   "cell_type": "code",
   "execution_count": 32,
   "id": "a05cc25b",
   "metadata": {
    "_uuid": "5565948b52b441af8e8e92eb36fda62b8f463e64",
    "execution": {
     "iopub.execute_input": "2023-11-11T20:51:18.373234Z",
     "iopub.status.busy": "2023-11-11T20:51:18.372635Z",
     "iopub.status.idle": "2023-11-11T20:51:18.445793Z",
     "shell.execute_reply": "2023-11-11T20:51:18.445001Z"
    },
    "papermill": {
     "duration": 0.395503,
     "end_time": "2023-11-11T20:51:18.448065",
     "exception": false,
     "start_time": "2023-11-11T20:51:18.052562",
     "status": "completed"
    },
    "tags": []
   },
   "outputs": [],
   "source": [
    "predictions = [1 if (x>0.5) else 0 for x in y_pred ]"
   ]
  },
  {
   "cell_type": "code",
   "execution_count": 33,
   "id": "5b92f565",
   "metadata": {
    "_uuid": "2d2dc365cd355752a868b8564cc22e91791d736f",
    "execution": {
     "iopub.execute_input": "2023-11-11T20:51:19.103208Z",
     "iopub.status.busy": "2023-11-11T20:51:19.102562Z",
     "iopub.status.idle": "2023-11-11T20:51:19.118563Z",
     "shell.execute_reply": "2023-11-11T20:51:19.117701Z"
    },
    "papermill": {
     "duration": 0.346277,
     "end_time": "2023-11-11T20:51:19.120448",
     "exception": false,
     "start_time": "2023-11-11T20:51:18.774171",
     "status": "completed"
    },
    "tags": []
   },
   "outputs": [],
   "source": [
    "predictions = pd.Series(predictions)"
   ]
  },
  {
   "cell_type": "code",
   "execution_count": 34,
   "id": "75a1ae76",
   "metadata": {
    "_uuid": "a9b37c7d630c5eb2acb5e3430c6fd47938c7d8db",
    "execution": {
     "iopub.execute_input": "2023-11-11T20:51:19.760982Z",
     "iopub.status.busy": "2023-11-11T20:51:19.760122Z",
     "iopub.status.idle": "2023-11-11T20:51:19.779608Z",
     "shell.execute_reply": "2023-11-11T20:51:19.778655Z"
    },
    "papermill": {
     "duration": 0.343181,
     "end_time": "2023-11-11T20:51:19.781649",
     "exception": false,
     "start_time": "2023-11-11T20:51:19.438468",
     "status": "completed"
    },
    "tags": []
   },
   "outputs": [],
   "source": [
    "ids = raw_test_data['id'].str.replace('\"', '')"
   ]
  },
  {
   "cell_type": "code",
   "execution_count": 35,
   "id": "5a6ca2f2",
   "metadata": {
    "_uuid": "32f45cb8fe8afa9e6e23d58c9a1c3d5463e2a521",
    "execution": {
     "iopub.execute_input": "2023-11-11T20:51:20.421229Z",
     "iopub.status.busy": "2023-11-11T20:51:20.420614Z",
     "iopub.status.idle": "2023-11-11T20:51:20.480369Z",
     "shell.execute_reply": "2023-11-11T20:51:20.479402Z"
    },
    "papermill": {
     "duration": 0.384062,
     "end_time": "2023-11-11T20:51:20.482470",
     "exception": false,
     "start_time": "2023-11-11T20:51:20.098408",
     "status": "completed"
    },
    "tags": []
   },
   "outputs": [],
   "source": [
    "submission = pd.DataFrame({'id': ids, 'sentiment':predictions})\n",
    "submission.to_csv('submission.csv',index=False)"
   ]
  }
 ],
 "metadata": {
  "kernelspec": {
   "display_name": "Python 3",
   "language": "python",
   "name": "python3"
  },
  "language_info": {
   "codemirror_mode": {
    "name": "ipython",
    "version": 3
   },
   "file_extension": ".py",
   "mimetype": "text/x-python",
   "name": "python",
   "nbconvert_exporter": "python",
   "pygments_lexer": "ipython3",
   "version": "3.10.12"
  },
  "papermill": {
   "default_parameters": {},
   "duration": 2777.939488,
   "end_time": "2023-11-11T20:51:24.482104",
   "environment_variables": {},
   "exception": null,
   "input_path": "__notebook__.ipynb",
   "output_path": "__notebook__.ipynb",
   "parameters": {},
   "start_time": "2023-11-11T20:05:06.542616",
   "version": "2.4.0"
  }
 },
 "nbformat": 4,
 "nbformat_minor": 5
}
